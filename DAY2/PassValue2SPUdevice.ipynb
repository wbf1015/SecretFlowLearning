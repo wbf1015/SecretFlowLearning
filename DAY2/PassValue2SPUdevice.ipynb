{
 "cells": [
  {
   "cell_type": "code",
   "execution_count": 16,
   "metadata": {},
   "outputs": [
    {
     "name": "stderr",
     "output_type": "stream",
     "text": [
      "2023-06-01 20:30:04,996\tINFO worker.py:1538 -- Started a local Ray instance.\n"
     ]
    }
   ],
   "source": [
    "import secretflow as sf\n",
    "\n",
    "# In case you have a running secretflow runtime already.\n",
    "sf.shutdown()\n",
    "# 基于这四个party，我们将会建立3个设备。\n",
    "# 一个基于 alice 的PYU设备\n",
    "# 一个基于 dave 的PYU设备\n",
    "# 一个基于 alice , bob 和 carol 的SPU设备\n",
    "sf.init(['alice', 'bob', 'carol', 'dave'], address='local')"
   ]
  },
  {
   "cell_type": "code",
   "execution_count": 17,
   "metadata": {},
   "outputs": [
    {
     "data": {
      "text/plain": [
       "{'nodes': [{'party': 'alice', 'address': '127.0.0.1:43505'},\n",
       "  {'party': 'bob', 'address': '127.0.0.1:46135'},\n",
       "  {'party': 'carol', 'address': '127.0.0.1:48535'}],\n",
       " 'runtime_config': {'protocol': 3, 'field': 3}}"
      ]
     },
     "execution_count": 17,
     "metadata": {},
     "output_type": "execute_result"
    }
   ],
   "source": [
    "# sf.utils.testing.cluster_def 是一个helper通过寻找未占用的端口来创建一个设置。\n",
    "aby3_config = sf.utils.testing.cluster_def(parties=['alice', 'bob', 'carol'])\n",
    "\n",
    "aby3_config"
   ]
  },
  {
   "cell_type": "code",
   "execution_count": 18,
   "metadata": {},
   "outputs": [
    {
     "data": {
      "text/plain": [
       "{'nodes': [{'party': 'alice', 'address': '127.0.0.1:43505'},\n",
       "  {'party': 'bob', 'address': '127.0.0.1:46135'},\n",
       "  {'party': 'carol', 'address': '127.0.0.1:48535'}],\n",
       " 'runtime_config': {'protocol': 3, 'field': 3}}"
      ]
     },
     "execution_count": 18,
     "metadata": {},
     "output_type": "execute_result"
    }
   ],
   "source": [
    "# 随后我们用 aby3_config 来创建一个SPU设备并检查其 cluster_def 。\n",
    "spu_device = sf.SPU(aby3_config)\n",
    "\n",
    "spu_device.cluster_def"
   ]
  },
  {
   "cell_type": "code",
   "execution_count": 19,
   "metadata": {},
   "outputs": [],
   "source": [
    "# 最后，我们创建两个PYU设备。\n",
    "alice, dave = sf.PYU('alice'), sf.PYU('dave')"
   ]
  },
  {
   "cell_type": "code",
   "execution_count": 20,
   "metadata": {},
   "outputs": [
    {
     "name": "stdout",
     "output_type": "stream",
     "text": [
      "<secretflow.device.device.pyu.PYUObject object at 0x7fdbf4274820>\n"
     ]
    },
    {
     "data": {
      "text/plain": [
       "secretflow.device.device.spu.SPUObject"
      ]
     },
     "execution_count": 20,
     "metadata": {},
     "output_type": "execute_result"
    },
    {
     "name": "stderr",
     "output_type": "stream",
     "text": [
      "\u001b[2m\u001b[36m(_run pid=26732)\u001b[0m INFO:jax._src.xla_bridge:Unable to initialize backend 'cuda': module 'jaxlib.xla_extension' has no attribute 'GpuAllocatorConfig'\n",
      "\u001b[2m\u001b[36m(_run pid=26732)\u001b[0m INFO:jax._src.xla_bridge:Unable to initialize backend 'rocm': module 'jaxlib.xla_extension' has no attribute 'GpuAllocatorConfig'\n",
      "\u001b[2m\u001b[36m(_run pid=26732)\u001b[0m INFO:jax._src.xla_bridge:Unable to initialize backend 'tpu': INVALID_ARGUMENT: TpuPlatform is not available.\n",
      "\u001b[2m\u001b[36m(_run pid=26732)\u001b[0m INFO:jax._src.xla_bridge:Unable to initialize backend 'plugin': xla_extension has no attributes named get_plugin_device_client. Compile TensorFlow with //tensorflow/compiler/xla/python:enable_plugin_device set to true (defaults to false) to enable this.\n",
      "\u001b[2m\u001b[36m(_run pid=26732)\u001b[0m WARNING:jax._src.xla_bridge:No GPU/TPU found, falling back to CPU. (Set TF_CPP_MIN_LOG_LEVEL=0 and rerun for more info.)\n"
     ]
    }
   ],
   "source": [
    "# 这个block让我们理解如何将一个 Python object / PYUObject 传给一个SPU设备。\n",
    "# 我试了直接把这玩意当字典，或者直接当数组都不能输出官方文档里的，我服了\n",
    "# bank_account = {'id': 12345, 'deposit': 1000.25}, {'id': 12345, 'deposit': 100000.25}\n",
    "bank_account = [{'id': 12345, 'deposit': 1000.25}, {'id': 12345, 'deposit': 100000.25}]\n",
    "\n",
    "# 这个东西他先to给了alice然后再to给了spu单元，就是让alice做pyu的意思？ 不是 傻逼了 前面定义了\n",
    "temp = sf.to(alice,bank_account)\n",
    "bank_account_spu = sf.to(alice, bank_account).to(spu_device)\n",
    "# temp就是个pyu的设备\n",
    "print(temp)\n",
    "type(bank_account_spu)"
   ]
  },
  {
   "cell_type": "code",
   "execution_count": 13,
   "metadata": {},
   "outputs": [
    {
     "data": {
      "text/plain": [
       "ObjectRef(e0dc174c83599034ffffffffffffffffffffffff0100000001000000)"
      ]
     },
     "execution_count": 13,
     "metadata": {},
     "output_type": "execute_result"
    }
   ],
   "source": [
    "# 每一个SPUObject包含两个成员：\n",
    "# meta\n",
    "# shares\n",
    "# 此时，由于我们是在 Host 创建一个SPU object。我们可以自由地查看这两个成员。\n",
    "# 我们首先查看meta。\n",
    "# meta保留了原始数据的结构，只是将数字和数列替换为 SPUValueMeta 。\n",
    "# 这里好像也和官网不太一样\n",
    "bank_account_spu.meta"
   ]
  },
  {
   "cell_type": "code",
   "execution_count": 12,
   "metadata": {},
   "outputs": [
    {
     "data": {
      "text/plain": [
       "<secretflow.device.device.spu.SPUObject at 0x7fdbf42c9340>"
      ]
     },
     "execution_count": 12,
     "metadata": {},
     "output_type": "execute_result"
    }
   ],
   "source": [
    "# 随后我们检查bank_account_spu的*shares* 。 由于我们将数据传递至一个3PC的SPU设备。我们可以有三个分片，我们将会检查第一个分片。\n",
    "assert len(bank_account_spu.shares_name) == 3\n",
    "\n",
    "# dir(bank_account_spu)\n",
    "# 我不知道这里为什么和官网上输出的不一样\n",
    "dir(bank_account_spu.shares_name[0])\n",
    "bank_account_spu"
   ]
  },
  {
   "cell_type": "code",
   "execution_count": 11,
   "metadata": {},
   "outputs": [
    {
     "data": {
      "text/plain": [
       "ObjectRef(f4402ec78d3a260768c28136959f2a0cc8f182be0100000001000000)"
      ]
     },
     "execution_count": 11,
     "metadata": {},
     "output_type": "execute_result"
    }
   ],
   "source": [
    "bank_account_spu.shares_name[0]"
   ]
  },
  {
   "cell_type": "code",
   "execution_count": 9,
   "metadata": {},
   "outputs": [
    {
     "name": "stdout",
     "output_type": "stream",
     "text": [
      "<bound method DeviceObject.to of <secretflow.device.device.spu.SPUObject object at 0x7fdb082f7760>>\n"
     ]
    }
   ],
   "source": [
    "# import pprint\n",
    "# pprint.pprint(dir(bank_account_spu))\n",
    "print(bank_account_spu.to)"
   ]
  },
  {
   "cell_type": "code",
   "execution_count": 10,
   "metadata": {},
   "outputs": [
    {
     "name": "stdout",
     "output_type": "stream",
     "text": [
      "['__abstractmethods__',\n",
      " '__class__',\n",
      " '__del__',\n",
      " '__delattr__',\n",
      " '__dict__',\n",
      " '__dir__',\n",
      " '__doc__',\n",
      " '__eq__',\n",
      " '__format__',\n",
      " '__ge__',\n",
      " '__getattribute__',\n",
      " '__gt__',\n",
      " '__hash__',\n",
      " '__init__',\n",
      " '__init_subclass__',\n",
      " '__le__',\n",
      " '__lt__',\n",
      " '__module__',\n",
      " '__ne__',\n",
      " '__new__',\n",
      " '__reduce__',\n",
      " '__reduce_ex__',\n",
      " '__repr__',\n",
      " '__setattr__',\n",
      " '__sizeof__',\n",
      " '__slots__',\n",
      " '__str__',\n",
      " '__subclasshook__',\n",
      " '__weakref__',\n",
      " '_abc_impl',\n",
      " 'device',\n",
      " 'device_type',\n",
      " 'meta',\n",
      " 'shares_name',\n",
      " 'to']\n"
     ]
    }
   ],
   "source": [
    "import pprint\n",
    "pprint.pprint(dir(bank_account_spu))"
   ]
  },
  {
   "cell_type": "code",
   "execution_count": 14,
   "metadata": {},
   "outputs": [],
   "source": [
    "# 关掉这玩意\n",
    "sf.shutdown()"
   ]
  }
 ],
 "metadata": {
  "kernelspec": {
   "display_name": "Python 3.8.13 ('sf': conda)",
   "language": "python",
   "name": "python3"
  },
  "language_info": {
   "codemirror_mode": {
    "name": "ipython",
    "version": 3
   },
   "file_extension": ".py",
   "mimetype": "text/x-python",
   "name": "python",
   "nbconvert_exporter": "python",
   "pygments_lexer": "ipython3",
   "version": "3.8.13"
  },
  "orig_nbformat": 4,
  "vscode": {
   "interpreter": {
    "hash": "54d06d589defdc7aa03c59811d58e9f2406cda7d5d8b6be0920ef29f568be004"
   }
  }
 },
 "nbformat": 4,
 "nbformat_minor": 2
}
