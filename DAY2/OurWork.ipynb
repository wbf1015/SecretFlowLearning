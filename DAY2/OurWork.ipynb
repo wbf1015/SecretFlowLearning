{
 "cells": [
  {
   "cell_type": "code",
   "execution_count": 1,
   "metadata": {},
   "outputs": [
    {
     "name": "stderr",
     "output_type": "stream",
     "text": [
      "2023-06-01 21:21:53,831\tINFO worker.py:1538 -- Started a local Ray instance.\n"
     ]
    }
   ],
   "source": [
    "import secretflow as sf\n",
    "\n",
    "sf.shutdown()\n",
    "sf.init(['user', 'chrome', 'TTP'], address='local')\n",
    "aby3_config = sf.utils.testing.cluster_def(parties=['user', 'chrome', 'TTP'])\n",
    "spu_device = sf.SPU(aby3_config)\n",
    "pyu_TTP= sf.PYU('TTP')"
   ]
  },
  {
   "cell_type": "code",
   "execution_count": 4,
   "metadata": {},
   "outputs": [],
   "source": [
    "username = input(\"please input your usrname: \")\n",
    "password = input(\"please input your password: \")"
   ]
  },
  {
   "cell_type": "code",
   "execution_count": 6,
   "metadata": {},
   "outputs": [
    {
     "name": "stdout",
     "output_type": "stream",
     "text": [
      "username= root  password= root\n",
      "{'root': 'root'}\n"
     ]
    }
   ],
   "source": [
    "print('username=',username,' password=',password)\n",
    "dic = {username:password}\n",
    "print(dic)"
   ]
  }
 ],
 "metadata": {
  "kernelspec": {
   "display_name": "Python 3.8.13 ('sf': conda)",
   "language": "python",
   "name": "python3"
  },
  "language_info": {
   "codemirror_mode": {
    "name": "ipython",
    "version": 3
   },
   "file_extension": ".py",
   "mimetype": "text/x-python",
   "name": "python",
   "nbconvert_exporter": "python",
   "pygments_lexer": "ipython3",
   "version": "3.8.13"
  },
  "orig_nbformat": 4,
  "vscode": {
   "interpreter": {
    "hash": "54d06d589defdc7aa03c59811d58e9f2406cda7d5d8b6be0920ef29f568be004"
   }
  }
 },
 "nbformat": 4,
 "nbformat_minor": 2
}
