{
 "cells": [
  {
   "cell_type": "code",
   "execution_count": 1,
   "metadata": {},
   "outputs": [
    {
     "name": "stderr",
     "output_type": "stream",
     "text": [
      "2023-06-01 20:52:26,437\tINFO worker.py:1538 -- Started a local Ray instance.\n"
     ]
    }
   ],
   "source": [
    "import secretflow as sf\n",
    "\n",
    "# In case you have a running secretflow runtime already.\n",
    "sf.shutdown()\n",
    "# 基于这四个party，我们将会建立3个设备。\n",
    "# 一个基于 alice 的PYU设备\n",
    "# 一个基于 dave 的PYU设备\n",
    "# 一个基于 alice , bob 和 carol 的SPU设备\n",
    "sf.init(['alice', 'bob', 'carol', 'dave'], address='local')"
   ]
  },
  {
   "cell_type": "code",
   "execution_count": 3,
   "metadata": {},
   "outputs": [
    {
     "data": {
      "text/plain": [
       "{'nodes': [{'party': 'alice', 'address': '127.0.0.1:54587'},\n",
       "  {'party': 'bob', 'address': '127.0.0.1:60045'},\n",
       "  {'party': 'carol', 'address': '127.0.0.1:46017'}],\n",
       " 'runtime_config': {'protocol': 3, 'field': 3}}"
      ]
     },
     "execution_count": 3,
     "metadata": {},
     "output_type": "execute_result"
    }
   ],
   "source": [
    "# sf.utils.testing.cluster_def 是一个helper通过寻找未占用的端口来创建一个设置。\n",
    "aby3_config = sf.utils.testing.cluster_def(parties=['alice', 'bob', 'carol'])\n",
    "\n",
    "aby3_config"
   ]
  },
  {
   "cell_type": "code",
   "execution_count": 4,
   "metadata": {},
   "outputs": [
    {
     "data": {
      "text/plain": [
       "{'nodes': [{'party': 'alice', 'address': '127.0.0.1:54587'},\n",
       "  {'party': 'bob', 'address': '127.0.0.1:60045'},\n",
       "  {'party': 'carol', 'address': '127.0.0.1:46017'}],\n",
       " 'runtime_config': {'protocol': 3, 'field': 3}}"
      ]
     },
     "execution_count": 4,
     "metadata": {},
     "output_type": "execute_result"
    }
   ],
   "source": [
    "# 随后我们用 aby3_config 来创建一个SPU设备并检查其 cluster_def 。\n",
    "spu_device = sf.SPU(aby3_config)\n",
    "\n",
    "spu_device.cluster_def"
   ]
  },
  {
   "cell_type": "code",
   "execution_count": 5,
   "metadata": {},
   "outputs": [],
   "source": [
    "# 们创建两个PYU设备。\n",
    "alice, dave = sf.PYU('alice'), sf.PYU('dave')"
   ]
  },
  {
   "cell_type": "code",
   "execution_count": 6,
   "metadata": {},
   "outputs": [
    {
     "name": "stderr",
     "output_type": "stream",
     "text": [
      "\u001b[2m\u001b[36m(_run pid=27862)\u001b[0m INFO:jax._src.xla_bridge:Unable to initialize backend 'cuda': module 'jaxlib.xla_extension' has no attribute 'GpuAllocatorConfig'\n",
      "\u001b[2m\u001b[36m(_run pid=27862)\u001b[0m INFO:jax._src.xla_bridge:Unable to initialize backend 'rocm': module 'jaxlib.xla_extension' has no attribute 'GpuAllocatorConfig'\n",
      "\u001b[2m\u001b[36m(_run pid=27862)\u001b[0m INFO:jax._src.xla_bridge:Unable to initialize backend 'tpu': INVALID_ARGUMENT: TpuPlatform is not available.\n",
      "\u001b[2m\u001b[36m(_run pid=27862)\u001b[0m INFO:jax._src.xla_bridge:Unable to initialize backend 'plugin': xla_extension has no attributes named get_plugin_device_client. Compile TensorFlow with //tensorflow/compiler/xla/python:enable_plugin_device set to true (defaults to false) to enable this.\n",
      "\u001b[2m\u001b[36m(_run pid=27862)\u001b[0m WARNING:jax._src.xla_bridge:No GPU/TPU found, falling back to CPU. (Set TF_CPP_MIN_LOG_LEVEL=0 and rerun for more info.)\n"
     ]
    }
   ],
   "source": [
    "bank_account = [{'id': 12345, 'deposit': 1000.25}, {'id': 12345, 'deposit': 100000.25}]\n",
    "\n",
    "# 这个东西他先to给了alice然后再to给了spu单元，就是让alice做pyu的意思？ 不是 傻逼了 前面定义了\n",
    "temp = sf.to(alice,bank_account)\n",
    "bank_account_spu = sf.to(alice, bank_account).to(spu_device)"
   ]
  },
  {
   "cell_type": "code",
   "execution_count": 7,
   "metadata": {},
   "outputs": [
    {
     "data": {
      "text/plain": [
       "<secretflow.device.device.pyu.PYUObject at 0x7f193dca1460>"
      ]
     },
     "execution_count": 7,
     "metadata": {},
     "output_type": "execute_result"
    }
   ],
   "source": [
    "# 首先，我们用一个PYU设备创建一个PYU object。\n",
    "def debit_amount():\n",
    "    return 10\n",
    "\n",
    "\n",
    "debit_amount_pyu = alice(debit_amount)()\n",
    "debit_amount_pyu"
   ]
  },
  {
   "cell_type": "code",
   "execution_count": 8,
   "metadata": {},
   "outputs": [
    {
     "data": {
      "text/plain": [
       "<secretflow.device.device.spu.SPUObject at 0x7f18fc1e4220>"
      ]
     },
     "execution_count": 8,
     "metadata": {},
     "output_type": "execute_result"
    }
   ],
   "source": [
    "# 然后我们将debit_amount_pyu从PYU传到SPU，我们将会得到一个SPU object作为结果。\n",
    "debit_amount_spu = debit_amount_pyu.to(spu_device)\n",
    "\n",
    "debit_amount_spu"
   ]
  },
  {
   "cell_type": "code",
   "execution_count": 9,
   "metadata": {},
   "outputs": [
    {
     "data": {
      "text/plain": [
       "<secretflow.device.device.spu.SPUObject at 0x7f18fc18ffd0>"
      ]
     },
     "execution_count": 9,
     "metadata": {},
     "output_type": "execute_result"
    },
    {
     "name": "stderr",
     "output_type": "stream",
     "text": [
      "\u001b[2m\u001b[33m(raylet)\u001b[0m [2023-06-01 20:53:26,373 E 27755 27755] (raylet) node_manager.cc:3097: 3 Workers (tasks / actors) killed due to memory pressure (OOM), 0 Workers crashed due to other reasons at node (ID: 037df0d88cd8839084e3c3d6f6ec17b656e2613e2b54b4af9bde5941, IP: 10.136.75.128) over the last time period. To see more information about the Workers killed on this node, use `ray logs raylet.out -ip 10.136.75.128`\n",
      "\u001b[2m\u001b[33m(raylet)\u001b[0m \n",
      "\u001b[2m\u001b[33m(raylet)\u001b[0m Refer to the documentation on how to address the out of memory issue: https://docs.ray.io/en/latest/ray-core/scheduling/ray-oom-prevention.html. Consider provisioning more memory on this node or reducing task parallelism by requesting more CPUs per task. To adjust the kill threshold, set the environment variable `RAY_memory_usage_threshold` when starting Ray. To disable worker killing, set the environment variable `RAY_memory_monitor_refresh_ms` to zero.\n"
     ]
    }
   ],
   "source": [
    "def deduce_from_account(bank_account, amount):\n",
    "    new_bank_account = []\n",
    "\n",
    "    for account in bank_account:\n",
    "        account['deposit'] = account['deposit'] - amount\n",
    "        new_bank_account.append(account)\n",
    "\n",
    "    return new_bank_account\n",
    "\n",
    "\n",
    "new_bank_account_spu = spu_device(deduce_from_account)(\n",
    "    bank_account_spu, debit_amount_spu\n",
    ")\n",
    "\n",
    "new_bank_account_spu\n",
    "\n",
    "# newbankaccountspu 也是一个 SPU Object 。 但它与 bank_account_spu 和 debit_amount_spu 有点不同！\n",
    "\n",
    "# bank_account_spu 位于host，因此您可以直接从host检查值。\n",
    "# debit_amount_spu 位于 alice，因此只有 alice 可以检查值。\n",
    "# newbankaccount_spu 位于spu，spu的每一方都有一份shares。 如果没有 sf.reveal ，您将无法直接检查该值。\n",
    "# 这里的host是啥意思啊"
   ]
  },
  {
   "cell_type": "code",
   "execution_count": 10,
   "metadata": {},
   "outputs": [
    {
     "data": {
      "text/plain": [
       "<secretflow.device.device.pyu.PYUObject at 0x7f18fc18fd60>"
      ]
     },
     "execution_count": 10,
     "metadata": {},
     "output_type": "execute_result"
    }
   ],
   "source": [
    "new_bank_account_pyu = new_bank_account_spu.to(dave)\n",
    "\n",
    "new_bank_account_pyu"
   ]
  },
  {
   "cell_type": "code",
   "execution_count": 12,
   "metadata": {},
   "outputs": [
    {
     "data": {
      "text/plain": [
       "[{'deposit': array(990.25, dtype=float32), 'id': array(12345, dtype=int32)},\n",
       " {'deposit': array(99990.25, dtype=float32), 'id': array(12345, dtype=int32)}]"
      ]
     },
     "execution_count": 12,
     "metadata": {},
     "output_type": "execute_result"
    }
   ],
   "source": [
    "sf.reveal(new_bank_account_pyu)"
   ]
  },
  {
   "cell_type": "code",
   "execution_count": 13,
   "metadata": {},
   "outputs": [
    {
     "data": {
      "text/plain": [
       "[{'deposit': array(990.25, dtype=float32), 'id': array(12345, dtype=int32)},\n",
       " {'deposit': array(99990.25, dtype=float32), 'id': array(12345, dtype=int32)}]"
      ]
     },
     "execution_count": 13,
     "metadata": {},
     "output_type": "execute_result"
    },
    {
     "name": "stderr",
     "output_type": "stream",
     "text": [
      "\u001b[2m\u001b[33m(raylet)\u001b[0m [2023-06-01 21:00:26,382 E 27755 27755] (raylet) node_manager.cc:3097: 1 Workers (tasks / actors) killed due to memory pressure (OOM), 0 Workers crashed due to other reasons at node (ID: 037df0d88cd8839084e3c3d6f6ec17b656e2613e2b54b4af9bde5941, IP: 10.136.75.128) over the last time period. To see more information about the Workers killed on this node, use `ray logs raylet.out -ip 10.136.75.128`\n",
      "\u001b[2m\u001b[33m(raylet)\u001b[0m \n",
      "\u001b[2m\u001b[33m(raylet)\u001b[0m Refer to the documentation on how to address the out of memory issue: https://docs.ray.io/en/latest/ray-core/scheduling/ray-oom-prevention.html. Consider provisioning more memory on this node or reducing task parallelism by requesting more CPUs per task. To adjust the kill threshold, set the environment variable `RAY_memory_usage_threshold` when starting Ray. To disable worker killing, set the environment variable `RAY_memory_monitor_refresh_ms` to zero.\n"
     ]
    }
   ],
   "source": [
    "sf.reveal(new_bank_account_spu)"
   ]
  }
 ],
 "metadata": {
  "kernelspec": {
   "display_name": "Python 3.8.13 ('sf': conda)",
   "language": "python",
   "name": "python3"
  },
  "language_info": {
   "codemirror_mode": {
    "name": "ipython",
    "version": 3
   },
   "file_extension": ".py",
   "mimetype": "text/x-python",
   "name": "python",
   "nbconvert_exporter": "python",
   "pygments_lexer": "ipython3",
   "version": "3.8.13"
  },
  "orig_nbformat": 4,
  "vscode": {
   "interpreter": {
    "hash": "54d06d589defdc7aa03c59811d58e9f2406cda7d5d8b6be0920ef29f568be004"
   }
  }
 },
 "nbformat": 4,
 "nbformat_minor": 2
}
