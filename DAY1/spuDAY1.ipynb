{
 "cells": [
  {
   "cell_type": "code",
   "execution_count": 1,
   "metadata": {},
   "outputs": [],
   "source": [
    "import spu.utils.distributed as ppd\n",
    "\n",
    "# initialized the distributed environment.\n",
    "ppd.init(ppd.SAMPLE_NODES_DEF, ppd.SAMPLE_DEVICES_DEF)"
   ]
  },
  {
   "cell_type": "code",
   "execution_count": 2,
   "metadata": {},
   "outputs": [
    {
     "data": {
      "text/plain": [
       "{'node:0': '127.0.0.1:9327',\n",
       " 'node:1': '127.0.0.1:9328',\n",
       " 'node:2': '127.0.0.1:9329'}"
      ]
     },
     "execution_count": 2,
     "metadata": {},
     "output_type": "execute_result"
    }
   ],
   "source": [
    "ppd.current().nodes_def"
   ]
  },
  {
   "cell_type": "code",
   "execution_count": 3,
   "metadata": {},
   "outputs": [
    {
     "data": {
      "text/plain": [
       "{'SPU': SPU(SPU) hosted by: ['127.0.0.1:9327', '127.0.0.1:9328', '127.0.0.1:9329'],\n",
       " 'P1': PYU(P1) hosted by: 127.0.0.1:9327,\n",
       " 'P2': PYU(P2) hosted by: 127.0.0.1:9328}"
      ]
     },
     "execution_count": 3,
     "metadata": {},
     "output_type": "execute_result"
    }
   ],
   "source": [
    "ppd.current().devices"
   ]
  },
  {
   "cell_type": "code",
   "execution_count": 4,
   "metadata": {},
   "outputs": [
    {
     "name": "stdout",
     "output_type": "stream",
     "text": [
      "name: SPU\n",
      "hosted by: ['127.0.0.1:9327', '127.0.0.1:9328', '127.0.0.1:9329']\n",
      "internal addrs: ['127.0.0.1:9437', '127.0.0.1:9438', '127.0.0.1:9439']\n",
      "protocol: ABY3\n",
      "field: FM128\n",
      "enable_pphlo_profile: true\n",
      "\n"
     ]
    }
   ],
   "source": [
    "print(ppd.device('SPU').details())"
   ]
  },
  {
   "cell_type": "code",
   "execution_count": 5,
   "metadata": {},
   "outputs": [
    {
     "name": "stderr",
     "output_type": "stream",
     "text": [
      "No GPU/TPU found, falling back to CPU. (Set TF_CPP_MIN_LOG_LEVEL=0 and rerun for more info.)\n"
     ]
    },
    {
     "name": "stdout",
     "output_type": "stream",
     "text": [
      "x = [8]\n",
      "y = [1]\n",
      "x>y = [ True]\n"
     ]
    }
   ],
   "source": [
    "import numpy as np\n",
    "import jax.numpy as jnp\n",
    "\n",
    "def make_rand():\n",
    "    np.random.seed()\n",
    "    return np.random.randint(100, size=(1, ))\n",
    "\n",
    "def greater(x, y):\n",
    "    return jnp.greater(x, y)\n",
    "\n",
    "x = make_rand()\n",
    "y = make_rand()\n",
    "ans = greater(x, y)\n",
    "\n",
    "print(f\"x = {x}\")\n",
    "print(f\"y = {y}\")\n",
    "print(f\"x>y = {ans}\")"
   ]
  },
  {
   "cell_type": "code",
   "execution_count": 6,
   "metadata": {},
   "outputs": [],
   "source": [
    "# run make_rand on P1, the value is visible for P1 only.\n",
    "x = ppd.device(\"P1\")(make_rand)()\n",
    "\n",
    "# run make_rand on P2, the value is visible for P2 only.\n",
    "y = ppd.device(\"P2\")(make_rand)()\n",
    "\n",
    "# run greater on SPU, it automatically fetches x/y from P1/P2 (as ciphertext), and compute the result securely.\n",
    "ans = ppd.device(\"SPU\")(greater)(x, y)"
   ]
  },
  {
   "cell_type": "code",
   "execution_count": 7,
   "metadata": {},
   "outputs": [
    {
     "data": {
      "text/plain": [
       "(DeviceObject(140665754876848 at P1),\n",
       " DeviceObject(140665754877328 at P2),\n",
       " DeviceObject(140665755360128 at SPU))"
      ]
     },
     "execution_count": 7,
     "metadata": {},
     "output_type": "execute_result"
    }
   ],
   "source": [
    "x, y, ans"
   ]
  },
  {
   "cell_type": "code",
   "execution_count": 8,
   "metadata": {},
   "outputs": [
    {
     "data": {
      "text/plain": [
       "('x>y = ', array([False]))"
      ]
     },
     "execution_count": 8,
     "metadata": {},
     "output_type": "execute_result"
    }
   ],
   "source": [
    "\"x>y = \", ppd.get(ans)"
   ]
  },
  {
   "cell_type": "code",
   "execution_count": 9,
   "metadata": {},
   "outputs": [
    {
     "data": {
      "text/plain": [
       "(array([31]), array([86]), array([False]))"
      ]
     },
     "execution_count": 9,
     "metadata": {},
     "output_type": "execute_result"
    }
   ],
   "source": [
    "x_revealed = ppd.get(x)\n",
    "y_revealed = ppd.get(y)\n",
    "x_revealed, y_revealed, np.greater(x_revealed, y_revealed)"
   ]
  },
  {
   "cell_type": "code",
   "execution_count": null,
   "metadata": {},
   "outputs": [],
   "source": []
  }
 ],
 "metadata": {
  "kernelspec": {
   "display_name": "Python 3.8.13 ('sf': conda)",
   "language": "python",
   "name": "python3"
  },
  "language_info": {
   "codemirror_mode": {
    "name": "ipython",
    "version": 3
   },
   "file_extension": ".py",
   "mimetype": "text/x-python",
   "name": "python",
   "nbconvert_exporter": "python",
   "pygments_lexer": "ipython3",
   "version": "3.8.13"
  },
  "orig_nbformat": 4,
  "vscode": {
   "interpreter": {
    "hash": "54d06d589defdc7aa03c59811d58e9f2406cda7d5d8b6be0920ef29f568be004"
   }
  }
 },
 "nbformat": 4,
 "nbformat_minor": 2
}
